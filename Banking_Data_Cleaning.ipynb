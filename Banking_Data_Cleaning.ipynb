{
 "cells": [
  {
   "cell_type": "markdown",
   "id": "45385cb4",
   "metadata": {},
   "source": [
    "# Data Cleaning"
   ]
  },
  {
   "cell_type": "code",
   "execution_count": 1,
   "id": "8faa7fa5",
   "metadata": {},
   "outputs": [],
   "source": [
    "# Import Libraries\n",
    "import pandas as pd\n",
    "import numpy as np\n",
    "import csv\n",
    "\n",
    "# Graph plot libraries seaborn, matplotlib\n",
    "import seaborn as sns\n",
    "from matplotlib import pyplot as plt"
   ]
  },
  {
   "cell_type": "code",
   "execution_count": 2,
   "id": "085a89a4",
   "metadata": {},
   "outputs": [
    {
     "data": {
      "text/html": [
       "<div>\n",
       "<style scoped>\n",
       "    .dataframe tbody tr th:only-of-type {\n",
       "        vertical-align: middle;\n",
       "    }\n",
       "\n",
       "    .dataframe tbody tr th {\n",
       "        vertical-align: top;\n",
       "    }\n",
       "\n",
       "    .dataframe thead th {\n",
       "        text-align: right;\n",
       "    }\n",
       "</style>\n",
       "<table border=\"1\" class=\"dataframe\">\n",
       "  <thead>\n",
       "    <tr style=\"text-align: right;\">\n",
       "      <th></th>\n",
       "      <th>age;\"job\";\"marital\";\"education\";\"default\";\"balance\";\"housing\";\"loan\";\"contact\";\"day\";\"month\";\"duration\";\"campaign\";\"pdays\";\"previous\";\"poutcome\";\"y\"</th>\n",
       "    </tr>\n",
       "  </thead>\n",
       "  <tbody>\n",
       "    <tr>\n",
       "      <th>0</th>\n",
       "      <td>58;\"management\";\"married\";\"tertiary\";\"no\";2143...</td>\n",
       "    </tr>\n",
       "    <tr>\n",
       "      <th>1</th>\n",
       "      <td>44;\"technician\";\"single\";\"secondary\";\"no\";29;\"...</td>\n",
       "    </tr>\n",
       "  </tbody>\n",
       "</table>\n",
       "</div>"
      ],
      "text/plain": [
       "  age;\"job\";\"marital\";\"education\";\"default\";\"balance\";\"housing\";\"loan\";\"contact\";\"day\";\"month\";\"duration\";\"campaign\";\"pdays\";\"previous\";\"poutcome\";\"y\"\n",
       "0  58;\"management\";\"married\";\"tertiary\";\"no\";2143...                                                                                                  \n",
       "1  44;\"technician\";\"single\";\"secondary\";\"no\";29;\"...                                                                                                  "
      ]
     },
     "execution_count": 2,
     "metadata": {},
     "output_type": "execute_result"
    }
   ],
   "source": [
    "# Read the csv file\n",
    "df = pd.read_csv('bank-full.csv', sep=';', engine='python')\n",
    "df.head(2)\n",
    "\n",
    "# !echo '\"age;\"job\";\"' > test.csv\n",
    "# !cat test.csv\n",
    "# df1 = pd.read_csv('test.csv', sep=';', engine='python' )\n",
    "# df1"
   ]
  },
  {
   "cell_type": "markdown",
   "id": "f3e5f2ec",
   "metadata": {},
   "source": [
    "### Data Cleaning checks:\n",
    "\n",
    "1. Unnecessary special characters in column names and values.\n",
    "\n",
    "    Solution:\n",
    "    \n",
    "    For Column_Names -\\\n",
    "    quoting=csv.QUOTE_NONE is used to remove quotes around field names.\n",
    "    \n",
    "    For Values -\\\n",
    "    Remove the double quotes using replace method"
   ]
  },
  {
   "cell_type": "code",
   "execution_count": 3,
   "id": "957efe0b",
   "metadata": {},
   "outputs": [
    {
     "data": {
      "text/html": [
       "<div>\n",
       "<style scoped>\n",
       "    .dataframe tbody tr th:only-of-type {\n",
       "        vertical-align: middle;\n",
       "    }\n",
       "\n",
       "    .dataframe tbody tr th {\n",
       "        vertical-align: top;\n",
       "    }\n",
       "\n",
       "    .dataframe thead th {\n",
       "        text-align: right;\n",
       "    }\n",
       "</style>\n",
       "<table border=\"1\" class=\"dataframe\">\n",
       "  <thead>\n",
       "    <tr style=\"text-align: right;\">\n",
       "      <th></th>\n",
       "      <th>\"age</th>\n",
       "      <th>\"\"job\"\"</th>\n",
       "      <th>\"\"marital\"\"</th>\n",
       "      <th>\"\"education\"\"</th>\n",
       "      <th>\"\"default\"\"</th>\n",
       "      <th>\"\"balance\"\"</th>\n",
       "      <th>\"\"housing\"\"</th>\n",
       "      <th>\"\"loan\"\"</th>\n",
       "      <th>\"\"contact\"\"</th>\n",
       "      <th>\"\"day\"\"</th>\n",
       "      <th>\"\"month\"\"</th>\n",
       "      <th>\"\"duration\"\"</th>\n",
       "      <th>\"\"campaign\"\"</th>\n",
       "      <th>\"\"pdays\"\"</th>\n",
       "      <th>\"\"previous\"\"</th>\n",
       "      <th>\"\"poutcome\"\"</th>\n",
       "      <th>\"\"y\"\"\"</th>\n",
       "    </tr>\n",
       "  </thead>\n",
       "  <tbody>\n",
       "    <tr>\n",
       "      <th>0</th>\n",
       "      <td>\"58</td>\n",
       "      <td>\"\"management\"\"</td>\n",
       "      <td>\"\"married\"\"</td>\n",
       "      <td>\"\"tertiary\"\"</td>\n",
       "      <td>\"\"no\"\"</td>\n",
       "      <td>2143</td>\n",
       "      <td>\"\"yes\"\"</td>\n",
       "      <td>\"\"no\"\"</td>\n",
       "      <td>\"\"unknown\"\"</td>\n",
       "      <td>5</td>\n",
       "      <td>\"\"may\"\"</td>\n",
       "      <td>261</td>\n",
       "      <td>1</td>\n",
       "      <td>-1</td>\n",
       "      <td>0</td>\n",
       "      <td>\"\"unknown\"\"</td>\n",
       "      <td>\"\"no\"\"\"</td>\n",
       "    </tr>\n",
       "    <tr>\n",
       "      <th>1</th>\n",
       "      <td>\"44</td>\n",
       "      <td>\"\"technician\"\"</td>\n",
       "      <td>\"\"single\"\"</td>\n",
       "      <td>\"\"secondary\"\"</td>\n",
       "      <td>\"\"no\"\"</td>\n",
       "      <td>29</td>\n",
       "      <td>\"\"yes\"\"</td>\n",
       "      <td>\"\"no\"\"</td>\n",
       "      <td>\"\"unknown\"\"</td>\n",
       "      <td>5</td>\n",
       "      <td>\"\"may\"\"</td>\n",
       "      <td>151</td>\n",
       "      <td>1</td>\n",
       "      <td>-1</td>\n",
       "      <td>0</td>\n",
       "      <td>\"\"unknown\"\"</td>\n",
       "      <td>\"\"no\"\"\"</td>\n",
       "    </tr>\n",
       "  </tbody>\n",
       "</table>\n",
       "</div>"
      ],
      "text/plain": [
       "  \"age         \"\"job\"\"  \"\"marital\"\"  \"\"education\"\" \"\"default\"\"  \"\"balance\"\"  \\\n",
       "0  \"58  \"\"management\"\"  \"\"married\"\"   \"\"tertiary\"\"      \"\"no\"\"         2143   \n",
       "1  \"44  \"\"technician\"\"   \"\"single\"\"  \"\"secondary\"\"      \"\"no\"\"           29   \n",
       "\n",
       "  \"\"housing\"\" \"\"loan\"\"  \"\"contact\"\"  \"\"day\"\" \"\"month\"\"  \"\"duration\"\"  \\\n",
       "0     \"\"yes\"\"   \"\"no\"\"  \"\"unknown\"\"        5   \"\"may\"\"           261   \n",
       "1     \"\"yes\"\"   \"\"no\"\"  \"\"unknown\"\"        5   \"\"may\"\"           151   \n",
       "\n",
       "   \"\"campaign\"\"  \"\"pdays\"\"  \"\"previous\"\" \"\"poutcome\"\"   \"\"y\"\"\"  \n",
       "0             1         -1             0  \"\"unknown\"\"  \"\"no\"\"\"  \n",
       "1             1         -1             0  \"\"unknown\"\"  \"\"no\"\"\"  "
      ]
     },
     "execution_count": 3,
     "metadata": {},
     "output_type": "execute_result"
    }
   ],
   "source": [
    "# For column split\n",
    "df = pd.read_csv('bank-full.csv', sep=';', engine='python' , quoting=csv.QUOTE_NONE)\n",
    "df.head(2)"
   ]
  },
  {
   "cell_type": "markdown",
   "id": "1215b00c",
   "metadata": {},
   "source": [
    "#### Remove special chars from column name "
   ]
  },
  {
   "cell_type": "code",
   "execution_count": 4,
   "id": "b4a0ce22",
   "metadata": {},
   "outputs": [
    {
     "name": "stdout",
     "output_type": "stream",
     "text": [
      "Index(['age', 'job', 'marital', 'education', 'default', 'balance', 'housing',\n",
      "       'loan', 'contact', 'day', 'month', 'duration', 'campaign', 'pdays',\n",
      "       'previous', 'poutcome', 'y'],\n",
      "      dtype='object')\n"
     ]
    }
   ],
   "source": [
    "df_column_names=df.columns.str.replace(\"\\\"\\\"\",'')\n",
    "df_column_names = df_column_names.to_list()\n",
    "df_column_names[0] = df_column_names[0].replace('\\\"','')\n",
    "df_column_names[-1] = df_column_names[-1].replace('\\\"','')\n",
    "\n",
    "# Rename the cols\n",
    "df.columns  = df_column_names\n",
    "print(df.columns)"
   ]
  },
  {
   "cell_type": "markdown",
   "id": "47a76c31",
   "metadata": {},
   "source": [
    "#### Remove special chars from values"
   ]
  },
  {
   "cell_type": "code",
   "execution_count": 5,
   "id": "fd170313",
   "metadata": {},
   "outputs": [
    {
     "data": {
      "text/html": [
       "<div>\n",
       "<style scoped>\n",
       "    .dataframe tbody tr th:only-of-type {\n",
       "        vertical-align: middle;\n",
       "    }\n",
       "\n",
       "    .dataframe tbody tr th {\n",
       "        vertical-align: top;\n",
       "    }\n",
       "\n",
       "    .dataframe thead th {\n",
       "        text-align: right;\n",
       "    }\n",
       "</style>\n",
       "<table border=\"1\" class=\"dataframe\">\n",
       "  <thead>\n",
       "    <tr style=\"text-align: right;\">\n",
       "      <th></th>\n",
       "      <th>age</th>\n",
       "      <th>job</th>\n",
       "      <th>marital</th>\n",
       "      <th>education</th>\n",
       "      <th>default</th>\n",
       "      <th>balance</th>\n",
       "      <th>housing</th>\n",
       "      <th>loan</th>\n",
       "      <th>contact</th>\n",
       "      <th>day</th>\n",
       "      <th>month</th>\n",
       "      <th>duration</th>\n",
       "      <th>campaign</th>\n",
       "      <th>pdays</th>\n",
       "      <th>previous</th>\n",
       "      <th>poutcome</th>\n",
       "      <th>y</th>\n",
       "    </tr>\n",
       "  </thead>\n",
       "  <tbody>\n",
       "    <tr>\n",
       "      <th>0</th>\n",
       "      <td>58</td>\n",
       "      <td>management</td>\n",
       "      <td>married</td>\n",
       "      <td>tertiary</td>\n",
       "      <td>no</td>\n",
       "      <td>2143</td>\n",
       "      <td>yes</td>\n",
       "      <td>no</td>\n",
       "      <td>unknown</td>\n",
       "      <td>5</td>\n",
       "      <td>may</td>\n",
       "      <td>261</td>\n",
       "      <td>1</td>\n",
       "      <td>-1</td>\n",
       "      <td>0</td>\n",
       "      <td>unknown</td>\n",
       "      <td>no</td>\n",
       "    </tr>\n",
       "    <tr>\n",
       "      <th>1</th>\n",
       "      <td>44</td>\n",
       "      <td>technician</td>\n",
       "      <td>single</td>\n",
       "      <td>secondary</td>\n",
       "      <td>no</td>\n",
       "      <td>29</td>\n",
       "      <td>yes</td>\n",
       "      <td>no</td>\n",
       "      <td>unknown</td>\n",
       "      <td>5</td>\n",
       "      <td>may</td>\n",
       "      <td>151</td>\n",
       "      <td>1</td>\n",
       "      <td>-1</td>\n",
       "      <td>0</td>\n",
       "      <td>unknown</td>\n",
       "      <td>no</td>\n",
       "    </tr>\n",
       "  </tbody>\n",
       "</table>\n",
       "</div>"
      ],
      "text/plain": [
       "  age         job  marital  education default  balance housing loan  contact  \\\n",
       "0  58  management  married   tertiary      no     2143     yes   no  unknown   \n",
       "1  44  technician   single  secondary      no       29     yes   no  unknown   \n",
       "\n",
       "   day month  duration  campaign  pdays  previous poutcome   y  \n",
       "0    5   may       261         1     -1         0  unknown  no  \n",
       "1    5   may       151         1     -1         0  unknown  no  "
      ]
     },
     "execution_count": 5,
     "metadata": {},
     "output_type": "execute_result"
    }
   ],
   "source": [
    "# Removing unrequired quotes\n",
    "df = df.replace('\"', '', regex=True)\n",
    "df.head(2)"
   ]
  },
  {
   "cell_type": "code",
   "execution_count": 6,
   "id": "5dbec0d5",
   "metadata": {},
   "outputs": [
    {
     "data": {
      "text/html": [
       "<div>\n",
       "<style scoped>\n",
       "    .dataframe tbody tr th:only-of-type {\n",
       "        vertical-align: middle;\n",
       "    }\n",
       "\n",
       "    .dataframe tbody tr th {\n",
       "        vertical-align: top;\n",
       "    }\n",
       "\n",
       "    .dataframe thead th {\n",
       "        text-align: right;\n",
       "    }\n",
       "</style>\n",
       "<table border=\"1\" class=\"dataframe\">\n",
       "  <thead>\n",
       "    <tr style=\"text-align: right;\">\n",
       "      <th></th>\n",
       "      <th>age</th>\n",
       "      <th>job</th>\n",
       "      <th>marital</th>\n",
       "      <th>education</th>\n",
       "      <th>default</th>\n",
       "      <th>balance</th>\n",
       "      <th>housing</th>\n",
       "      <th>loan</th>\n",
       "      <th>contact</th>\n",
       "      <th>day</th>\n",
       "      <th>month</th>\n",
       "      <th>duration</th>\n",
       "      <th>campaign</th>\n",
       "      <th>pdays</th>\n",
       "      <th>previous</th>\n",
       "      <th>poutcome</th>\n",
       "      <th>y</th>\n",
       "    </tr>\n",
       "  </thead>\n",
       "  <tbody>\n",
       "    <tr>\n",
       "      <th>0</th>\n",
       "      <td>58</td>\n",
       "      <td>management</td>\n",
       "      <td>married</td>\n",
       "      <td>tertiary</td>\n",
       "      <td>no</td>\n",
       "      <td>2143</td>\n",
       "      <td>yes</td>\n",
       "      <td>no</td>\n",
       "      <td>unknown</td>\n",
       "      <td>5</td>\n",
       "      <td>may</td>\n",
       "      <td>261</td>\n",
       "      <td>1</td>\n",
       "      <td>-1</td>\n",
       "      <td>0</td>\n",
       "      <td>unknown</td>\n",
       "      <td>no</td>\n",
       "    </tr>\n",
       "    <tr>\n",
       "      <th>1</th>\n",
       "      <td>44</td>\n",
       "      <td>technician</td>\n",
       "      <td>single</td>\n",
       "      <td>secondary</td>\n",
       "      <td>no</td>\n",
       "      <td>29</td>\n",
       "      <td>yes</td>\n",
       "      <td>no</td>\n",
       "      <td>unknown</td>\n",
       "      <td>5</td>\n",
       "      <td>may</td>\n",
       "      <td>151</td>\n",
       "      <td>1</td>\n",
       "      <td>-1</td>\n",
       "      <td>0</td>\n",
       "      <td>unknown</td>\n",
       "      <td>no</td>\n",
       "    </tr>\n",
       "    <tr>\n",
       "      <th>2</th>\n",
       "      <td>33</td>\n",
       "      <td>entrepreneur</td>\n",
       "      <td>married</td>\n",
       "      <td>secondary</td>\n",
       "      <td>no</td>\n",
       "      <td>2</td>\n",
       "      <td>yes</td>\n",
       "      <td>yes</td>\n",
       "      <td>unknown</td>\n",
       "      <td>5</td>\n",
       "      <td>may</td>\n",
       "      <td>76</td>\n",
       "      <td>1</td>\n",
       "      <td>-1</td>\n",
       "      <td>0</td>\n",
       "      <td>unknown</td>\n",
       "      <td>no</td>\n",
       "    </tr>\n",
       "    <tr>\n",
       "      <th>3</th>\n",
       "      <td>47</td>\n",
       "      <td>blue-collar</td>\n",
       "      <td>married</td>\n",
       "      <td>unknown</td>\n",
       "      <td>no</td>\n",
       "      <td>1506</td>\n",
       "      <td>yes</td>\n",
       "      <td>no</td>\n",
       "      <td>unknown</td>\n",
       "      <td>5</td>\n",
       "      <td>may</td>\n",
       "      <td>92</td>\n",
       "      <td>1</td>\n",
       "      <td>-1</td>\n",
       "      <td>0</td>\n",
       "      <td>unknown</td>\n",
       "      <td>no</td>\n",
       "    </tr>\n",
       "    <tr>\n",
       "      <th>4</th>\n",
       "      <td>33</td>\n",
       "      <td>unknown</td>\n",
       "      <td>single</td>\n",
       "      <td>unknown</td>\n",
       "      <td>no</td>\n",
       "      <td>1</td>\n",
       "      <td>no</td>\n",
       "      <td>no</td>\n",
       "      <td>unknown</td>\n",
       "      <td>5</td>\n",
       "      <td>may</td>\n",
       "      <td>198</td>\n",
       "      <td>1</td>\n",
       "      <td>-1</td>\n",
       "      <td>0</td>\n",
       "      <td>unknown</td>\n",
       "      <td>no</td>\n",
       "    </tr>\n",
       "  </tbody>\n",
       "</table>\n",
       "</div>"
      ],
      "text/plain": [
       "  age           job  marital  education default  balance housing loan  \\\n",
       "0  58    management  married   tertiary      no     2143     yes   no   \n",
       "1  44    technician   single  secondary      no       29     yes   no   \n",
       "2  33  entrepreneur  married  secondary      no        2     yes  yes   \n",
       "3  47   blue-collar  married    unknown      no     1506     yes   no   \n",
       "4  33       unknown   single    unknown      no        1      no   no   \n",
       "\n",
       "   contact  day month  duration  campaign  pdays  previous poutcome   y  \n",
       "0  unknown    5   may       261         1     -1         0  unknown  no  \n",
       "1  unknown    5   may       151         1     -1         0  unknown  no  \n",
       "2  unknown    5   may        76         1     -1         0  unknown  no  \n",
       "3  unknown    5   may        92         1     -1         0  unknown  no  \n",
       "4  unknown    5   may       198         1     -1         0  unknown  no  "
      ]
     },
     "execution_count": 6,
     "metadata": {},
     "output_type": "execute_result"
    }
   ],
   "source": [
    "df.head()"
   ]
  },
  {
   "cell_type": "markdown",
   "id": "1a8bf76c",
   "metadata": {},
   "source": [
    "#### Table Size"
   ]
  },
  {
   "cell_type": "code",
   "execution_count": 7,
   "id": "5d1b2cf4",
   "metadata": {},
   "outputs": [
    {
     "data": {
      "text/plain": [
       "(45211, 17)"
      ]
     },
     "execution_count": 7,
     "metadata": {},
     "output_type": "execute_result"
    }
   ],
   "source": [
    "df.shape"
   ]
  },
  {
   "cell_type": "markdown",
   "id": "266960ee",
   "metadata": {},
   "source": [
    "#### check datatypes"
   ]
  },
  {
   "cell_type": "code",
   "execution_count": 8,
   "id": "5d1487f6",
   "metadata": {},
   "outputs": [
    {
     "data": {
      "text/plain": [
       "age          object\n",
       "job          object\n",
       "marital      object\n",
       "education    object\n",
       "default      object\n",
       "balance       int64\n",
       "housing      object\n",
       "loan         object\n",
       "contact      object\n",
       "day           int64\n",
       "month        object\n",
       "duration      int64\n",
       "campaign      int64\n",
       "pdays         int64\n",
       "previous      int64\n",
       "poutcome     object\n",
       "y            object\n",
       "dtype: object"
      ]
     },
     "execution_count": 8,
     "metadata": {},
     "output_type": "execute_result"
    }
   ],
   "source": [
    "df.dtypes"
   ]
  },
  {
   "cell_type": "markdown",
   "id": "41d1d869",
   "metadata": {},
   "source": [
    "#### Correcting datatype anomalies"
   ]
  },
  {
   "cell_type": "code",
   "execution_count": 9,
   "id": "97a98ac3",
   "metadata": {},
   "outputs": [],
   "source": [
    "# Changing object dtype to category for better memory usage\n",
    "Categorical_features = ['job','marital', 'education', 'default', 'housing', 'loan', 'contact', 'day',\n",
    "                       'month', 'poutcome', 'y', 'age']\n",
    "Numerical_features = ['duration', 'campaign', 'pdays', 'previous', 'balance']"
   ]
  },
  {
   "cell_type": "code",
   "execution_count": 10,
   "id": "d07565fc",
   "metadata": {},
   "outputs": [],
   "source": [
    "df[Categorical_features]=df[Categorical_features].astype('category')"
   ]
  },
  {
   "cell_type": "code",
   "execution_count": 11,
   "id": "71cd035e",
   "metadata": {},
   "outputs": [
    {
     "data": {
      "text/plain": [
       "age          category\n",
       "job          category\n",
       "marital      category\n",
       "education    category\n",
       "default      category\n",
       "balance         int64\n",
       "housing      category\n",
       "loan         category\n",
       "contact      category\n",
       "day          category\n",
       "month        category\n",
       "duration        int64\n",
       "campaign        int64\n",
       "pdays           int64\n",
       "previous        int64\n",
       "poutcome     category\n",
       "y            category\n",
       "dtype: object"
      ]
     },
     "execution_count": 11,
     "metadata": {},
     "output_type": "execute_result"
    }
   ],
   "source": [
    "df.dtypes"
   ]
  },
  {
   "cell_type": "markdown",
   "id": "ccb1996d",
   "metadata": {},
   "source": [
    "#### Describe and check"
   ]
  },
  {
   "cell_type": "code",
   "execution_count": 12,
   "id": "f3288e10",
   "metadata": {},
   "outputs": [
    {
     "name": "stdout",
     "output_type": "stream",
     "text": [
      "<class 'pandas.core.frame.DataFrame'>\n",
      "RangeIndex: 45211 entries, 0 to 45210\n",
      "Data columns (total 17 columns):\n",
      " #   Column     Non-Null Count  Dtype   \n",
      "---  ------     --------------  -----   \n",
      " 0   age        45211 non-null  category\n",
      " 1   job        45211 non-null  category\n",
      " 2   marital    45211 non-null  category\n",
      " 3   education  45211 non-null  category\n",
      " 4   default    45211 non-null  category\n",
      " 5   balance    45211 non-null  int64   \n",
      " 6   housing    45211 non-null  category\n",
      " 7   loan       45211 non-null  category\n",
      " 8   contact    45211 non-null  category\n",
      " 9   day        45211 non-null  category\n",
      " 10  month      45211 non-null  category\n",
      " 11  duration   45211 non-null  int64   \n",
      " 12  campaign   45211 non-null  int64   \n",
      " 13  pdays      45211 non-null  int64   \n",
      " 14  previous   45211 non-null  int64   \n",
      " 15  poutcome   45211 non-null  category\n",
      " 16  y          45211 non-null  category\n",
      "dtypes: category(12), int64(5)\n",
      "memory usage: 2.2 MB\n"
     ]
    }
   ],
   "source": [
    "df.info()"
   ]
  },
  {
   "cell_type": "code",
   "execution_count": 13,
   "id": "9be3eded",
   "metadata": {},
   "outputs": [
    {
     "data": {
      "text/html": [
       "<div>\n",
       "<style scoped>\n",
       "    .dataframe tbody tr th:only-of-type {\n",
       "        vertical-align: middle;\n",
       "    }\n",
       "\n",
       "    .dataframe tbody tr th {\n",
       "        vertical-align: top;\n",
       "    }\n",
       "\n",
       "    .dataframe thead th {\n",
       "        text-align: right;\n",
       "    }\n",
       "</style>\n",
       "<table border=\"1\" class=\"dataframe\">\n",
       "  <thead>\n",
       "    <tr style=\"text-align: right;\">\n",
       "      <th></th>\n",
       "      <th>balance</th>\n",
       "      <th>duration</th>\n",
       "      <th>campaign</th>\n",
       "      <th>pdays</th>\n",
       "      <th>previous</th>\n",
       "    </tr>\n",
       "  </thead>\n",
       "  <tbody>\n",
       "    <tr>\n",
       "      <th>count</th>\n",
       "      <td>45211.000000</td>\n",
       "      <td>45211.000000</td>\n",
       "      <td>45211.000000</td>\n",
       "      <td>45211.000000</td>\n",
       "      <td>45211.000000</td>\n",
       "    </tr>\n",
       "    <tr>\n",
       "      <th>mean</th>\n",
       "      <td>1362.272058</td>\n",
       "      <td>258.163080</td>\n",
       "      <td>2.763841</td>\n",
       "      <td>40.197828</td>\n",
       "      <td>0.580323</td>\n",
       "    </tr>\n",
       "    <tr>\n",
       "      <th>std</th>\n",
       "      <td>3044.765829</td>\n",
       "      <td>257.527812</td>\n",
       "      <td>3.098021</td>\n",
       "      <td>100.128746</td>\n",
       "      <td>2.303441</td>\n",
       "    </tr>\n",
       "    <tr>\n",
       "      <th>min</th>\n",
       "      <td>-8019.000000</td>\n",
       "      <td>0.000000</td>\n",
       "      <td>1.000000</td>\n",
       "      <td>-1.000000</td>\n",
       "      <td>0.000000</td>\n",
       "    </tr>\n",
       "    <tr>\n",
       "      <th>25%</th>\n",
       "      <td>72.000000</td>\n",
       "      <td>103.000000</td>\n",
       "      <td>1.000000</td>\n",
       "      <td>-1.000000</td>\n",
       "      <td>0.000000</td>\n",
       "    </tr>\n",
       "    <tr>\n",
       "      <th>50%</th>\n",
       "      <td>448.000000</td>\n",
       "      <td>180.000000</td>\n",
       "      <td>2.000000</td>\n",
       "      <td>-1.000000</td>\n",
       "      <td>0.000000</td>\n",
       "    </tr>\n",
       "    <tr>\n",
       "      <th>75%</th>\n",
       "      <td>1428.000000</td>\n",
       "      <td>319.000000</td>\n",
       "      <td>3.000000</td>\n",
       "      <td>-1.000000</td>\n",
       "      <td>0.000000</td>\n",
       "    </tr>\n",
       "    <tr>\n",
       "      <th>max</th>\n",
       "      <td>102127.000000</td>\n",
       "      <td>4918.000000</td>\n",
       "      <td>63.000000</td>\n",
       "      <td>871.000000</td>\n",
       "      <td>275.000000</td>\n",
       "    </tr>\n",
       "  </tbody>\n",
       "</table>\n",
       "</div>"
      ],
      "text/plain": [
       "             balance      duration      campaign         pdays      previous\n",
       "count   45211.000000  45211.000000  45211.000000  45211.000000  45211.000000\n",
       "mean     1362.272058    258.163080      2.763841     40.197828      0.580323\n",
       "std      3044.765829    257.527812      3.098021    100.128746      2.303441\n",
       "min     -8019.000000      0.000000      1.000000     -1.000000      0.000000\n",
       "25%        72.000000    103.000000      1.000000     -1.000000      0.000000\n",
       "50%       448.000000    180.000000      2.000000     -1.000000      0.000000\n",
       "75%      1428.000000    319.000000      3.000000     -1.000000      0.000000\n",
       "max    102127.000000   4918.000000     63.000000    871.000000    275.000000"
      ]
     },
     "execution_count": 13,
     "metadata": {},
     "output_type": "execute_result"
    }
   ],
   "source": [
    "# Only for Numerical Features\n",
    "df.describe()"
   ]
  },
  {
   "cell_type": "code",
   "execution_count": 14,
   "id": "9aadc554",
   "metadata": {},
   "outputs": [
    {
     "data": {
      "text/html": [
       "<div>\n",
       "<style scoped>\n",
       "    .dataframe tbody tr th:only-of-type {\n",
       "        vertical-align: middle;\n",
       "    }\n",
       "\n",
       "    .dataframe tbody tr th {\n",
       "        vertical-align: top;\n",
       "    }\n",
       "\n",
       "    .dataframe thead th {\n",
       "        text-align: right;\n",
       "    }\n",
       "</style>\n",
       "<table border=\"1\" class=\"dataframe\">\n",
       "  <thead>\n",
       "    <tr style=\"text-align: right;\">\n",
       "      <th></th>\n",
       "      <th>age</th>\n",
       "      <th>job</th>\n",
       "      <th>marital</th>\n",
       "      <th>education</th>\n",
       "      <th>default</th>\n",
       "      <th>balance</th>\n",
       "      <th>housing</th>\n",
       "      <th>loan</th>\n",
       "      <th>contact</th>\n",
       "      <th>day</th>\n",
       "      <th>month</th>\n",
       "      <th>duration</th>\n",
       "      <th>campaign</th>\n",
       "      <th>pdays</th>\n",
       "      <th>previous</th>\n",
       "      <th>poutcome</th>\n",
       "      <th>y</th>\n",
       "    </tr>\n",
       "  </thead>\n",
       "  <tbody>\n",
       "    <tr>\n",
       "      <th>count</th>\n",
       "      <td>45211</td>\n",
       "      <td>45211</td>\n",
       "      <td>45211</td>\n",
       "      <td>45211</td>\n",
       "      <td>45211</td>\n",
       "      <td>45211.000000</td>\n",
       "      <td>45211</td>\n",
       "      <td>45211</td>\n",
       "      <td>45211</td>\n",
       "      <td>45211.0</td>\n",
       "      <td>45211</td>\n",
       "      <td>45211.000000</td>\n",
       "      <td>45211.000000</td>\n",
       "      <td>45211.000000</td>\n",
       "      <td>45211.000000</td>\n",
       "      <td>45211</td>\n",
       "      <td>45211</td>\n",
       "    </tr>\n",
       "    <tr>\n",
       "      <th>unique</th>\n",
       "      <td>77</td>\n",
       "      <td>12</td>\n",
       "      <td>3</td>\n",
       "      <td>4</td>\n",
       "      <td>2</td>\n",
       "      <td>NaN</td>\n",
       "      <td>2</td>\n",
       "      <td>2</td>\n",
       "      <td>3</td>\n",
       "      <td>31.0</td>\n",
       "      <td>12</td>\n",
       "      <td>NaN</td>\n",
       "      <td>NaN</td>\n",
       "      <td>NaN</td>\n",
       "      <td>NaN</td>\n",
       "      <td>4</td>\n",
       "      <td>2</td>\n",
       "    </tr>\n",
       "    <tr>\n",
       "      <th>top</th>\n",
       "      <td>32</td>\n",
       "      <td>blue-collar</td>\n",
       "      <td>married</td>\n",
       "      <td>secondary</td>\n",
       "      <td>no</td>\n",
       "      <td>NaN</td>\n",
       "      <td>yes</td>\n",
       "      <td>no</td>\n",
       "      <td>cellular</td>\n",
       "      <td>20.0</td>\n",
       "      <td>may</td>\n",
       "      <td>NaN</td>\n",
       "      <td>NaN</td>\n",
       "      <td>NaN</td>\n",
       "      <td>NaN</td>\n",
       "      <td>unknown</td>\n",
       "      <td>no</td>\n",
       "    </tr>\n",
       "    <tr>\n",
       "      <th>freq</th>\n",
       "      <td>2085</td>\n",
       "      <td>9732</td>\n",
       "      <td>27214</td>\n",
       "      <td>23202</td>\n",
       "      <td>44396</td>\n",
       "      <td>NaN</td>\n",
       "      <td>25130</td>\n",
       "      <td>37967</td>\n",
       "      <td>29285</td>\n",
       "      <td>2752.0</td>\n",
       "      <td>13766</td>\n",
       "      <td>NaN</td>\n",
       "      <td>NaN</td>\n",
       "      <td>NaN</td>\n",
       "      <td>NaN</td>\n",
       "      <td>36959</td>\n",
       "      <td>39922</td>\n",
       "    </tr>\n",
       "    <tr>\n",
       "      <th>mean</th>\n",
       "      <td>NaN</td>\n",
       "      <td>NaN</td>\n",
       "      <td>NaN</td>\n",
       "      <td>NaN</td>\n",
       "      <td>NaN</td>\n",
       "      <td>1362.272058</td>\n",
       "      <td>NaN</td>\n",
       "      <td>NaN</td>\n",
       "      <td>NaN</td>\n",
       "      <td>NaN</td>\n",
       "      <td>NaN</td>\n",
       "      <td>258.163080</td>\n",
       "      <td>2.763841</td>\n",
       "      <td>40.197828</td>\n",
       "      <td>0.580323</td>\n",
       "      <td>NaN</td>\n",
       "      <td>NaN</td>\n",
       "    </tr>\n",
       "    <tr>\n",
       "      <th>std</th>\n",
       "      <td>NaN</td>\n",
       "      <td>NaN</td>\n",
       "      <td>NaN</td>\n",
       "      <td>NaN</td>\n",
       "      <td>NaN</td>\n",
       "      <td>3044.765829</td>\n",
       "      <td>NaN</td>\n",
       "      <td>NaN</td>\n",
       "      <td>NaN</td>\n",
       "      <td>NaN</td>\n",
       "      <td>NaN</td>\n",
       "      <td>257.527812</td>\n",
       "      <td>3.098021</td>\n",
       "      <td>100.128746</td>\n",
       "      <td>2.303441</td>\n",
       "      <td>NaN</td>\n",
       "      <td>NaN</td>\n",
       "    </tr>\n",
       "    <tr>\n",
       "      <th>min</th>\n",
       "      <td>NaN</td>\n",
       "      <td>NaN</td>\n",
       "      <td>NaN</td>\n",
       "      <td>NaN</td>\n",
       "      <td>NaN</td>\n",
       "      <td>-8019.000000</td>\n",
       "      <td>NaN</td>\n",
       "      <td>NaN</td>\n",
       "      <td>NaN</td>\n",
       "      <td>NaN</td>\n",
       "      <td>NaN</td>\n",
       "      <td>0.000000</td>\n",
       "      <td>1.000000</td>\n",
       "      <td>-1.000000</td>\n",
       "      <td>0.000000</td>\n",
       "      <td>NaN</td>\n",
       "      <td>NaN</td>\n",
       "    </tr>\n",
       "    <tr>\n",
       "      <th>25%</th>\n",
       "      <td>NaN</td>\n",
       "      <td>NaN</td>\n",
       "      <td>NaN</td>\n",
       "      <td>NaN</td>\n",
       "      <td>NaN</td>\n",
       "      <td>72.000000</td>\n",
       "      <td>NaN</td>\n",
       "      <td>NaN</td>\n",
       "      <td>NaN</td>\n",
       "      <td>NaN</td>\n",
       "      <td>NaN</td>\n",
       "      <td>103.000000</td>\n",
       "      <td>1.000000</td>\n",
       "      <td>-1.000000</td>\n",
       "      <td>0.000000</td>\n",
       "      <td>NaN</td>\n",
       "      <td>NaN</td>\n",
       "    </tr>\n",
       "    <tr>\n",
       "      <th>50%</th>\n",
       "      <td>NaN</td>\n",
       "      <td>NaN</td>\n",
       "      <td>NaN</td>\n",
       "      <td>NaN</td>\n",
       "      <td>NaN</td>\n",
       "      <td>448.000000</td>\n",
       "      <td>NaN</td>\n",
       "      <td>NaN</td>\n",
       "      <td>NaN</td>\n",
       "      <td>NaN</td>\n",
       "      <td>NaN</td>\n",
       "      <td>180.000000</td>\n",
       "      <td>2.000000</td>\n",
       "      <td>-1.000000</td>\n",
       "      <td>0.000000</td>\n",
       "      <td>NaN</td>\n",
       "      <td>NaN</td>\n",
       "    </tr>\n",
       "    <tr>\n",
       "      <th>75%</th>\n",
       "      <td>NaN</td>\n",
       "      <td>NaN</td>\n",
       "      <td>NaN</td>\n",
       "      <td>NaN</td>\n",
       "      <td>NaN</td>\n",
       "      <td>1428.000000</td>\n",
       "      <td>NaN</td>\n",
       "      <td>NaN</td>\n",
       "      <td>NaN</td>\n",
       "      <td>NaN</td>\n",
       "      <td>NaN</td>\n",
       "      <td>319.000000</td>\n",
       "      <td>3.000000</td>\n",
       "      <td>-1.000000</td>\n",
       "      <td>0.000000</td>\n",
       "      <td>NaN</td>\n",
       "      <td>NaN</td>\n",
       "    </tr>\n",
       "    <tr>\n",
       "      <th>max</th>\n",
       "      <td>NaN</td>\n",
       "      <td>NaN</td>\n",
       "      <td>NaN</td>\n",
       "      <td>NaN</td>\n",
       "      <td>NaN</td>\n",
       "      <td>102127.000000</td>\n",
       "      <td>NaN</td>\n",
       "      <td>NaN</td>\n",
       "      <td>NaN</td>\n",
       "      <td>NaN</td>\n",
       "      <td>NaN</td>\n",
       "      <td>4918.000000</td>\n",
       "      <td>63.000000</td>\n",
       "      <td>871.000000</td>\n",
       "      <td>275.000000</td>\n",
       "      <td>NaN</td>\n",
       "      <td>NaN</td>\n",
       "    </tr>\n",
       "  </tbody>\n",
       "</table>\n",
       "</div>"
      ],
      "text/plain": [
       "          age          job  marital  education default        balance housing  \\\n",
       "count   45211        45211    45211      45211   45211   45211.000000   45211   \n",
       "unique     77           12        3          4       2            NaN       2   \n",
       "top        32  blue-collar  married  secondary      no            NaN     yes   \n",
       "freq     2085         9732    27214      23202   44396            NaN   25130   \n",
       "mean      NaN          NaN      NaN        NaN     NaN    1362.272058     NaN   \n",
       "std       NaN          NaN      NaN        NaN     NaN    3044.765829     NaN   \n",
       "min       NaN          NaN      NaN        NaN     NaN   -8019.000000     NaN   \n",
       "25%       NaN          NaN      NaN        NaN     NaN      72.000000     NaN   \n",
       "50%       NaN          NaN      NaN        NaN     NaN     448.000000     NaN   \n",
       "75%       NaN          NaN      NaN        NaN     NaN    1428.000000     NaN   \n",
       "max       NaN          NaN      NaN        NaN     NaN  102127.000000     NaN   \n",
       "\n",
       "         loan   contact      day  month      duration      campaign  \\\n",
       "count   45211     45211  45211.0  45211  45211.000000  45211.000000   \n",
       "unique      2         3     31.0     12           NaN           NaN   \n",
       "top        no  cellular     20.0    may           NaN           NaN   \n",
       "freq    37967     29285   2752.0  13766           NaN           NaN   \n",
       "mean      NaN       NaN      NaN    NaN    258.163080      2.763841   \n",
       "std       NaN       NaN      NaN    NaN    257.527812      3.098021   \n",
       "min       NaN       NaN      NaN    NaN      0.000000      1.000000   \n",
       "25%       NaN       NaN      NaN    NaN    103.000000      1.000000   \n",
       "50%       NaN       NaN      NaN    NaN    180.000000      2.000000   \n",
       "75%       NaN       NaN      NaN    NaN    319.000000      3.000000   \n",
       "max       NaN       NaN      NaN    NaN   4918.000000     63.000000   \n",
       "\n",
       "               pdays      previous poutcome      y  \n",
       "count   45211.000000  45211.000000    45211  45211  \n",
       "unique           NaN           NaN        4      2  \n",
       "top              NaN           NaN  unknown     no  \n",
       "freq             NaN           NaN    36959  39922  \n",
       "mean       40.197828      0.580323      NaN    NaN  \n",
       "std       100.128746      2.303441      NaN    NaN  \n",
       "min        -1.000000      0.000000      NaN    NaN  \n",
       "25%        -1.000000      0.000000      NaN    NaN  \n",
       "50%        -1.000000      0.000000      NaN    NaN  \n",
       "75%        -1.000000      0.000000      NaN    NaN  \n",
       "max       871.000000    275.000000      NaN    NaN  "
      ]
     },
     "execution_count": 14,
     "metadata": {},
     "output_type": "execute_result"
    }
   ],
   "source": [
    "# For all columns\n",
    "df.describe(include='all')"
   ]
  },
  {
   "cell_type": "markdown",
   "id": "f9860be0",
   "metadata": {},
   "source": [
    "#### Find unique entries for categorical features"
   ]
  },
  {
   "cell_type": "code",
   "execution_count": 15,
   "id": "f92a32e2",
   "metadata": {},
   "outputs": [
    {
     "name": "stdout",
     "output_type": "stream",
     "text": [
      "age has 77 unique entries = ['58', '44', '33', '47', '35', ..., '84', '87', '92', '93', '88']\n",
      "Length: 77\n",
      "Categories (77, object): ['18', '19', '20', '21', ..., '92', '93', '94', '95']\n",
      "\n",
      "job has 12 unique entries = ['management', 'technician', 'entrepreneur', 'blue-collar', 'unknown', ..., 'services', 'self-employed', 'unemployed', 'housemaid', 'student']\n",
      "Length: 12\n",
      "Categories (12, object): ['admin.', 'blue-collar', 'entrepreneur', 'housemaid', ..., 'student', 'technician', 'unemployed', 'unknown']\n",
      "\n",
      "marital has 3 unique entries = ['married', 'single', 'divorced']\n",
      "Categories (3, object): ['divorced', 'married', 'single']\n",
      "\n",
      "education has 4 unique entries = ['tertiary', 'secondary', 'unknown', 'primary']\n",
      "Categories (4, object): ['primary', 'secondary', 'tertiary', 'unknown']\n",
      "\n",
      "default has 2 unique entries = ['no', 'yes']\n",
      "Categories (2, object): ['no', 'yes']\n",
      "\n",
      "housing has 2 unique entries = ['yes', 'no']\n",
      "Categories (2, object): ['no', 'yes']\n",
      "\n",
      "loan has 2 unique entries = ['no', 'yes']\n",
      "Categories (2, object): ['no', 'yes']\n",
      "\n",
      "contact has 3 unique entries = ['unknown', 'cellular', 'telephone']\n",
      "Categories (3, object): ['cellular', 'telephone', 'unknown']\n",
      "\n",
      "day has 31 unique entries = [5, 6, 7, 8, 9, ..., 25, 1, 10, 22, 31]\n",
      "Length: 31\n",
      "Categories (31, int64): [1, 2, 3, 4, ..., 28, 29, 30, 31]\n",
      "\n",
      "month has 12 unique entries = ['may', 'jun', 'jul', 'aug', 'oct', ..., 'jan', 'feb', 'mar', 'apr', 'sep']\n",
      "Length: 12\n",
      "Categories (12, object): ['apr', 'aug', 'dec', 'feb', ..., 'may', 'nov', 'oct', 'sep']\n",
      "\n",
      "poutcome has 4 unique entries = ['unknown', 'failure', 'other', 'success']\n",
      "Categories (4, object): ['failure', 'other', 'success', 'unknown']\n",
      "\n",
      "y has 2 unique entries = ['no', 'yes']\n",
      "Categories (2, object): ['no', 'yes']\n",
      "\n"
     ]
    }
   ],
   "source": [
    "series_of_type_per_column = df.dtypes\n",
    "for col,col_type in series_of_type_per_column.iteritems():\n",
    "    if df[col].dtype.name == 'category':\n",
    "        print(f'''{col} has {df[col].nunique()} unique entries = {df[col].unique()}\\n''')"
   ]
  },
  {
   "cell_type": "markdown",
   "id": "e3fd9c78",
   "metadata": {},
   "source": [
    "#### Check empty columns and unnecessary data"
   ]
  },
  {
   "cell_type": "markdown",
   "id": "d2f9ad4c",
   "metadata": {},
   "source": [
    "Solution: No Column data is empty "
   ]
  },
  {
   "cell_type": "markdown",
   "id": "d2e81c96",
   "metadata": {},
   "source": [
    "#### Check if any columns have same row data?"
   ]
  },
  {
   "cell_type": "code",
   "execution_count": 16,
   "id": "66d00928",
   "metadata": {},
   "outputs": [
    {
     "name": "stdout",
     "output_type": "stream",
     "text": [
      "0    58\n",
      "Name: age, dtype: category\n",
      "Categories (77, object): ['18', '19', '20', '21', ..., '92', '93', '94', '95'] has 77 unique entries\n",
      "0    management\n",
      "Name: job, dtype: category\n",
      "Categories (12, object): ['admin.', 'blue-collar', 'entrepreneur', 'housemaid', ..., 'student', 'technician', 'unemployed', 'unknown'] has 12 unique entries\n",
      "0    married\n",
      "Name: marital, dtype: category\n",
      "Categories (3, object): ['divorced', 'married', 'single'] has 3 unique entries\n",
      "0    tertiary\n",
      "Name: education, dtype: category\n",
      "Categories (4, object): ['primary', 'secondary', 'tertiary', 'unknown'] has 4 unique entries\n",
      "0    no\n",
      "Name: default, dtype: category\n",
      "Categories (2, object): ['no', 'yes'] has 2 unique entries\n",
      "0    2143\n",
      "Name: balance, dtype: int64 has 7168 unique entries\n",
      "0    yes\n",
      "Name: housing, dtype: category\n",
      "Categories (2, object): ['no', 'yes'] has 2 unique entries\n",
      "0    no\n",
      "Name: loan, dtype: category\n",
      "Categories (2, object): ['no', 'yes'] has 2 unique entries\n",
      "0    unknown\n",
      "Name: contact, dtype: category\n",
      "Categories (3, object): ['cellular', 'telephone', 'unknown'] has 3 unique entries\n",
      "0    5\n",
      "Name: day, dtype: category\n",
      "Categories (31, int64): [1, 2, 3, 4, ..., 28, 29, 30, 31] has 31 unique entries\n",
      "0    may\n",
      "Name: month, dtype: category\n",
      "Categories (12, object): ['apr', 'aug', 'dec', 'feb', ..., 'may', 'nov', 'oct', 'sep'] has 12 unique entries\n",
      "0    261\n",
      "Name: duration, dtype: int64 has 1573 unique entries\n",
      "0    1\n",
      "Name: campaign, dtype: int64 has 48 unique entries\n",
      "0   -1\n",
      "Name: pdays, dtype: int64 has 559 unique entries\n",
      "0    0\n",
      "Name: previous, dtype: int64 has 41 unique entries\n",
      "0    unknown\n",
      "Name: poutcome, dtype: category\n",
      "Categories (4, object): ['failure', 'other', 'success', 'unknown'] has 4 unique entries\n",
      "0    no\n",
      "Name: y, dtype: category\n",
      "Categories (2, object): ['no', 'yes'] has 2 unique entries\n"
     ]
    }
   ],
   "source": [
    "for this_column in df.columns:\n",
    "       print(f'{df[this_column].head(1)} has {df[this_column].nunique()} unique entries')"
   ]
  },
  {
   "cell_type": "markdown",
   "id": "9167cdd1",
   "metadata": {},
   "source": [
    "#### Analysis:\n",
    "\n",
    "No columns has same row data"
   ]
  },
  {
   "cell_type": "markdown",
   "id": "f00d59f4",
   "metadata": {},
   "source": [
    "#### Check Null count for each coulmn data"
   ]
  },
  {
   "cell_type": "code",
   "execution_count": 17,
   "id": "575b244c",
   "metadata": {},
   "outputs": [
    {
     "data": {
      "text/plain": [
       "age          0\n",
       "job          0\n",
       "marital      0\n",
       "education    0\n",
       "default      0\n",
       "balance      0\n",
       "housing      0\n",
       "loan         0\n",
       "contact      0\n",
       "day          0\n",
       "month        0\n",
       "duration     0\n",
       "campaign     0\n",
       "pdays        0\n",
       "previous     0\n",
       "poutcome     0\n",
       "y            0\n",
       "dtype: int64"
      ]
     },
     "execution_count": 17,
     "metadata": {},
     "output_type": "execute_result"
    }
   ],
   "source": [
    "df.isnull().sum()"
   ]
  },
  {
   "cell_type": "markdown",
   "id": "9ca59fad",
   "metadata": {},
   "source": [
    "#### Analysis\n",
    "\n",
    "No null data"
   ]
  },
  {
   "cell_type": "markdown",
   "id": "57b9aae6",
   "metadata": {},
   "source": [
    "#### Drop columns that are not useful"
   ]
  },
  {
   "cell_type": "code",
   "execution_count": 18,
   "id": "dcbfedc7",
   "metadata": {},
   "outputs": [
    {
     "data": {
      "text/plain": [
       "age          False\n",
       "job          False\n",
       "marital      False\n",
       "education    False\n",
       "default      False\n",
       "balance      False\n",
       "housing      False\n",
       "loan         False\n",
       "contact      False\n",
       "day          False\n",
       "month        False\n",
       "duration     False\n",
       "campaign     False\n",
       "pdays        False\n",
       "previous     False\n",
       "poutcome     False\n",
       "y            False\n",
       "dtype: bool"
      ]
     },
     "execution_count": 18,
     "metadata": {},
     "output_type": "execute_result"
    }
   ],
   "source": [
    "#Explain: \n",
    "\n",
    "df.isnull().sum()==df.shape[0]"
   ]
  },
  {
   "cell_type": "markdown",
   "id": "c1416b2a",
   "metadata": {},
   "source": [
    "#### Analysis\n",
    "\n",
    "All columns have data hence no need to drop."
   ]
  },
  {
   "cell_type": "markdown",
   "id": "189a0fce",
   "metadata": {},
   "source": [
    "#### check quantity of data"
   ]
  },
  {
   "cell_type": "code",
   "execution_count": 19,
   "id": "4c115d2f",
   "metadata": {},
   "outputs": [
    {
     "data": {
      "text/plain": [
       "age          0.0\n",
       "job          0.0\n",
       "marital      0.0\n",
       "education    0.0\n",
       "default      0.0\n",
       "balance      0.0\n",
       "housing      0.0\n",
       "loan         0.0\n",
       "contact      0.0\n",
       "day          0.0\n",
       "month        0.0\n",
       "duration     0.0\n",
       "campaign     0.0\n",
       "pdays        0.0\n",
       "previous     0.0\n",
       "poutcome     0.0\n",
       "y            0.0\n",
       "dtype: float64"
      ]
     },
     "execution_count": 19,
     "metadata": {},
     "output_type": "execute_result"
    }
   ],
   "source": [
    "df.isnull().sum()/len(df)"
   ]
  },
  {
   "cell_type": "markdown",
   "id": "829f3348",
   "metadata": {},
   "source": [
    "#### Analysis\n",
    "\n",
    "100% data is present."
   ]
  },
  {
   "cell_type": "markdown",
   "id": "cd1805af",
   "metadata": {},
   "source": [
    "## Data Cleaning Report \n",
    "\n",
    "1. Correcting datatype anomalies\n",
    "    * Converting object type to category for better memory usage\n",
    "    * Divded numercial and categorical dtypes correctly\n",
    "2. Describe and check the continous variables data count, mean, std, min, max, and percentile values.\n",
    "    * All Data looks good!\n",
    "3. Find unique entries for categorical features\n",
    "    * Check the category numbers and value names for better understanding.\\\n",
    "    Note: We could eliminate the column if only one category is present.\n",
    "4. Check empty columns and unnecessary data\n",
    "    * No empty columns are present and data looks good!\n",
    "5. Check if any columns have same row data\n",
    "    * No colums has same row data. \n",
    "6.  Check Null count for each coulmn data\n",
    "    * No Null values found\n",
    "7. Drop columns that are not useful\n",
    "    * All columns are useful"
   ]
  },
  {
   "cell_type": "markdown",
   "id": "699007a3",
   "metadata": {},
   "source": [
    "## Sanity checks "
   ]
  },
  {
   "cell_type": "code",
   "execution_count": 20,
   "id": "b8b720e6",
   "metadata": {},
   "outputs": [
    {
     "data": {
      "text/html": [
       "<div>\n",
       "<style scoped>\n",
       "    .dataframe tbody tr th:only-of-type {\n",
       "        vertical-align: middle;\n",
       "    }\n",
       "\n",
       "    .dataframe tbody tr th {\n",
       "        vertical-align: top;\n",
       "    }\n",
       "\n",
       "    .dataframe thead th {\n",
       "        text-align: right;\n",
       "    }\n",
       "</style>\n",
       "<table border=\"1\" class=\"dataframe\">\n",
       "  <thead>\n",
       "    <tr style=\"text-align: right;\">\n",
       "      <th></th>\n",
       "      <th>balance</th>\n",
       "      <th>duration</th>\n",
       "      <th>campaign</th>\n",
       "      <th>pdays</th>\n",
       "      <th>previous</th>\n",
       "    </tr>\n",
       "  </thead>\n",
       "  <tbody>\n",
       "    <tr>\n",
       "      <th>balance</th>\n",
       "      <td>1.000000</td>\n",
       "      <td>0.021560</td>\n",
       "      <td>-0.014578</td>\n",
       "      <td>0.003435</td>\n",
       "      <td>0.016674</td>\n",
       "    </tr>\n",
       "    <tr>\n",
       "      <th>duration</th>\n",
       "      <td>0.021560</td>\n",
       "      <td>1.000000</td>\n",
       "      <td>-0.084570</td>\n",
       "      <td>-0.001565</td>\n",
       "      <td>0.001203</td>\n",
       "    </tr>\n",
       "    <tr>\n",
       "      <th>campaign</th>\n",
       "      <td>-0.014578</td>\n",
       "      <td>-0.084570</td>\n",
       "      <td>1.000000</td>\n",
       "      <td>-0.088628</td>\n",
       "      <td>-0.032855</td>\n",
       "    </tr>\n",
       "    <tr>\n",
       "      <th>pdays</th>\n",
       "      <td>0.003435</td>\n",
       "      <td>-0.001565</td>\n",
       "      <td>-0.088628</td>\n",
       "      <td>1.000000</td>\n",
       "      <td>0.454820</td>\n",
       "    </tr>\n",
       "    <tr>\n",
       "      <th>previous</th>\n",
       "      <td>0.016674</td>\n",
       "      <td>0.001203</td>\n",
       "      <td>-0.032855</td>\n",
       "      <td>0.454820</td>\n",
       "      <td>1.000000</td>\n",
       "    </tr>\n",
       "  </tbody>\n",
       "</table>\n",
       "</div>"
      ],
      "text/plain": [
       "           balance  duration  campaign     pdays  previous\n",
       "balance   1.000000  0.021560 -0.014578  0.003435  0.016674\n",
       "duration  0.021560  1.000000 -0.084570 -0.001565  0.001203\n",
       "campaign -0.014578 -0.084570  1.000000 -0.088628 -0.032855\n",
       "pdays     0.003435 -0.001565 -0.088628  1.000000  0.454820\n",
       "previous  0.016674  0.001203 -0.032855  0.454820  1.000000"
      ]
     },
     "execution_count": 20,
     "metadata": {},
     "output_type": "execute_result"
    }
   ],
   "source": [
    "df.corr()"
   ]
  },
  {
   "cell_type": "code",
   "execution_count": 21,
   "id": "30d797fc",
   "metadata": {},
   "outputs": [
    {
     "data": {
      "text/plain": [
       "education  job          \n",
       "primary    admin.            930.478469\n",
       "           blue-collar      1086.104311\n",
       "           entrepreneur     1679.366120\n",
       "           housemaid        1128.261563\n",
       "           management       1672.244898\n",
       "           retired          1879.545912\n",
       "           self-employed    1330.723077\n",
       "           services          966.571014\n",
       "           student          1243.522727\n",
       "           technician       1487.221519\n",
       "           unemployed       1588.190661\n",
       "           unknown          1750.254902\n",
       "secondary  admin.           1116.059967\n",
       "           blue-collar      1063.894433\n",
       "           entrepreneur     1070.841328\n",
       "           housemaid        1443.589873\n",
       "           management       1326.537021\n",
       "           retired          2061.122967\n",
       "           self-employed    1287.029463\n",
       "           services          957.864623\n",
       "           student          1259.903543\n",
       "           technician       1124.722700\n",
       "           unemployed       1432.729396\n",
       "           unknown          1249.521127\n",
       "tertiary   admin.           1217.777972\n",
       "           blue-collar      1549.248322\n",
       "           entrepreneur     1831.804665\n",
       "           housemaid        1830.416185\n",
       "           management       1833.871170\n",
       "           retired          2161.245902\n",
       "           self-employed    1951.199280\n",
       "           services         1211.435644\n",
       "           student          1644.923767\n",
       "           technician       1511.472561\n",
       "           unemployed       1686.826990\n",
       "           unknown          2359.410256\n",
       "unknown    admin.           1600.742690\n",
       "           blue-collar      1040.850220\n",
       "           entrepreneur     1553.789474\n",
       "           housemaid        2939.333333\n",
       "           management       1634.590909\n",
       "           retired          1503.050420\n",
       "           self-employed    1568.897436\n",
       "           services         1682.593333\n",
       "           student          1475.073620\n",
       "           technician       1758.314050\n",
       "           unemployed       1522.413793\n",
       "           unknown          1893.251969\n",
       "Name: balance, dtype: float64"
      ]
     },
     "execution_count": 21,
     "metadata": {},
     "output_type": "execute_result"
    }
   ],
   "source": [
    "df.groupby(['education','job'])['balance'].mean()"
   ]
  },
  {
   "cell_type": "code",
   "execution_count": 22,
   "id": "f0ec4c1b",
   "metadata": {},
   "outputs": [
    {
     "data": {
      "text/html": [
       "<div>\n",
       "<style scoped>\n",
       "    .dataframe tbody tr th:only-of-type {\n",
       "        vertical-align: middle;\n",
       "    }\n",
       "\n",
       "    .dataframe tbody tr th {\n",
       "        vertical-align: top;\n",
       "    }\n",
       "\n",
       "    .dataframe thead th {\n",
       "        text-align: right;\n",
       "    }\n",
       "</style>\n",
       "<table border=\"1\" class=\"dataframe\">\n",
       "  <thead>\n",
       "    <tr style=\"text-align: right;\">\n",
       "      <th></th>\n",
       "      <th>balance</th>\n",
       "      <th>duration</th>\n",
       "      <th>campaign</th>\n",
       "      <th>pdays</th>\n",
       "      <th>previous</th>\n",
       "    </tr>\n",
       "  </thead>\n",
       "  <tbody>\n",
       "    <tr>\n",
       "      <th>count</th>\n",
       "      <td>45211.000000</td>\n",
       "      <td>45211.000000</td>\n",
       "      <td>45211.000000</td>\n",
       "      <td>45211.000000</td>\n",
       "      <td>45211.000000</td>\n",
       "    </tr>\n",
       "    <tr>\n",
       "      <th>mean</th>\n",
       "      <td>1362.272058</td>\n",
       "      <td>258.163080</td>\n",
       "      <td>2.763841</td>\n",
       "      <td>40.197828</td>\n",
       "      <td>0.580323</td>\n",
       "    </tr>\n",
       "    <tr>\n",
       "      <th>std</th>\n",
       "      <td>3044.765829</td>\n",
       "      <td>257.527812</td>\n",
       "      <td>3.098021</td>\n",
       "      <td>100.128746</td>\n",
       "      <td>2.303441</td>\n",
       "    </tr>\n",
       "    <tr>\n",
       "      <th>min</th>\n",
       "      <td>-8019.000000</td>\n",
       "      <td>0.000000</td>\n",
       "      <td>1.000000</td>\n",
       "      <td>-1.000000</td>\n",
       "      <td>0.000000</td>\n",
       "    </tr>\n",
       "    <tr>\n",
       "      <th>25%</th>\n",
       "      <td>72.000000</td>\n",
       "      <td>103.000000</td>\n",
       "      <td>1.000000</td>\n",
       "      <td>-1.000000</td>\n",
       "      <td>0.000000</td>\n",
       "    </tr>\n",
       "    <tr>\n",
       "      <th>50%</th>\n",
       "      <td>448.000000</td>\n",
       "      <td>180.000000</td>\n",
       "      <td>2.000000</td>\n",
       "      <td>-1.000000</td>\n",
       "      <td>0.000000</td>\n",
       "    </tr>\n",
       "    <tr>\n",
       "      <th>75%</th>\n",
       "      <td>1428.000000</td>\n",
       "      <td>319.000000</td>\n",
       "      <td>3.000000</td>\n",
       "      <td>-1.000000</td>\n",
       "      <td>0.000000</td>\n",
       "    </tr>\n",
       "    <tr>\n",
       "      <th>max</th>\n",
       "      <td>102127.000000</td>\n",
       "      <td>4918.000000</td>\n",
       "      <td>63.000000</td>\n",
       "      <td>871.000000</td>\n",
       "      <td>275.000000</td>\n",
       "    </tr>\n",
       "  </tbody>\n",
       "</table>\n",
       "</div>"
      ],
      "text/plain": [
       "             balance      duration      campaign         pdays      previous\n",
       "count   45211.000000  45211.000000  45211.000000  45211.000000  45211.000000\n",
       "mean     1362.272058    258.163080      2.763841     40.197828      0.580323\n",
       "std      3044.765829    257.527812      3.098021    100.128746      2.303441\n",
       "min     -8019.000000      0.000000      1.000000     -1.000000      0.000000\n",
       "25%        72.000000    103.000000      1.000000     -1.000000      0.000000\n",
       "50%       448.000000    180.000000      2.000000     -1.000000      0.000000\n",
       "75%      1428.000000    319.000000      3.000000     -1.000000      0.000000\n",
       "max    102127.000000   4918.000000     63.000000    871.000000    275.000000"
      ]
     },
     "execution_count": 22,
     "metadata": {},
     "output_type": "execute_result"
    }
   ],
   "source": [
    "df.describe()"
   ]
  },
  {
   "cell_type": "markdown",
   "id": "679e797c",
   "metadata": {},
   "source": [
    "## Sanity checks Report\n",
    "\n",
    "1. Check the corelation between each continous columns.\n",
    "2. Check the relation between education, job and balance.\n",
    "3. Describe and check the continous variables data count, mean, std, min, max, and percentile values.\n",
    "    * All Data looks good!\\\n",
    "\n",
    "Overall Data looks good and we can proceed ahead!!!"
   ]
  },
  {
   "cell_type": "markdown",
   "id": "3ba98475",
   "metadata": {},
   "source": [
    "## Analysis of clean data for characteristics & Visualization"
   ]
  },
  {
   "cell_type": "code",
   "execution_count": 23,
   "id": "da79917d",
   "metadata": {},
   "outputs": [
    {
     "data": {
      "text/plain": [
       "Index(['age', 'job', 'marital', 'education', 'default', 'balance', 'housing',\n",
       "       'loan', 'contact', 'day', 'month', 'duration', 'campaign', 'pdays',\n",
       "       'previous', 'poutcome', 'y'],\n",
       "      dtype='object')"
      ]
     },
     "execution_count": 23,
     "metadata": {},
     "output_type": "execute_result"
    }
   ],
   "source": [
    "df.columns"
   ]
  },
  {
   "cell_type": "markdown",
   "id": "2b012581",
   "metadata": {},
   "source": [
    "#### Sec 1:"
   ]
  },
  {
   "cell_type": "code",
   "execution_count": 24,
   "id": "f9f25bee",
   "metadata": {},
   "outputs": [
    {
     "data": {
      "text/plain": [
       "y\n",
       "no     221.182806\n",
       "yes    537.294574\n",
       "Name: duration, dtype: float64"
      ]
     },
     "execution_count": 24,
     "metadata": {},
     "output_type": "execute_result"
    }
   ],
   "source": [
    "# duaration unit = seconds\n",
    "df.groupby(['y'])['duration'].mean()"
   ]
  },
  {
   "cell_type": "markdown",
   "id": "7b4e863c",
   "metadata": {},
   "source": [
    "Analysis:\n",
    "   * The average seconds spent on clients who agreed to take up the plan was 537s and with others they have spent on 221s on avearge."
   ]
  },
  {
   "cell_type": "markdown",
   "id": "cabde5d3",
   "metadata": {},
   "source": [
    "#### Sec 2"
   ]
  },
  {
   "cell_type": "code",
   "execution_count": 25,
   "id": "6b7cede1",
   "metadata": {},
   "outputs": [
    {
     "data": {
      "text/plain": [
       "y    marital   loan  housing\n",
       "no   divorced  no    no         1355.066840\n",
       "                     yes        1085.634703\n",
       "               yes   no          735.559585\n",
       "                     yes         697.457265\n",
       "     married   no    no         1800.402079\n",
       "                     yes        1260.276812\n",
       "               yes   no          776.759470\n",
       "                     yes         847.864220\n",
       "     single    no    no         1487.449937\n",
       "                     yes        1220.023346\n",
       "               yes   no          611.309593\n",
       "                     yes         653.390097\n",
       "yes  divorced  no    no         2116.014793\n",
       "                     yes        1368.741935\n",
       "               yes   no          743.914286\n",
       "                     yes         752.718750\n",
       "     married   no    no         2197.492992\n",
       "                     yes        1651.746445\n",
       "               yes   no         1262.238095\n",
       "                     yes         880.981818\n",
       "     single    no    no         1876.943772\n",
       "                     yes        1531.942529\n",
       "               yes   no          912.531646\n",
       "                     yes         405.470588\n",
       "Name: balance, dtype: float64"
      ]
     },
     "execution_count": 25,
     "metadata": {},
     "output_type": "execute_result"
    }
   ],
   "source": [
    "df.groupby(['y','marital','loan', 'housing'])['balance'].mean()"
   ]
  },
  {
   "cell_type": "markdown",
   "id": "8bbdef9c",
   "metadata": {},
   "source": [
    "Analysis:\n",
    "   * The clients who has high average deposit of 2116.014793 & divorced & no loan & no housing are more likely to take up the term deposit plan. "
   ]
  },
  {
   "cell_type": "markdown",
   "id": "07177b7d",
   "metadata": {},
   "source": [
    "#### Sec 3"
   ]
  },
  {
   "cell_type": "code",
   "execution_count": 26,
   "id": "dec86884",
   "metadata": {},
   "outputs": [
    {
     "data": {
      "text/plain": [
       "Text(0.5, 6.79999999999999, 'age in years')"
      ]
     },
     "execution_count": 26,
     "metadata": {},
     "output_type": "execute_result"
    },
    {
     "data": {
      "image/png": "[encoded data removed]",
      "text/plain": [
       "<Figure size 1853.25x360 with 1 Axes>"
      ]
     },
     "metadata": {
      "needs_background": "light"
     },
     "output_type": "display_data"
    }
   ],
   "source": [
    "# perform groupby\n",
    "df_1 = df.groupby(['age','y'])['balance'].mean()\n",
    "df_1 = df_1.reset_index()\n",
    "  \n",
    "# plot barplot\n",
    "sns.displot(x=\"age\",\n",
    "           y=\"balance\",\n",
    "           hue=\"y\",\n",
    "           kind='hist',\n",
    "           data=df_1, aspect=5)\n",
    "plt.title('Outcome Analysis using age & balance')\n",
    "plt.ylabel('balance in $')\n",
    "plt.xlabel('age in years')"
   ]
  },
  {
   "cell_type": "markdown",
   "id": "8729d618",
   "metadata": {},
   "source": [
    "Analysis:\n",
    "   * The clients who had balance more than $10,000 were least interested in term deposit plan."
   ]
  },
  {
   "cell_type": "markdown",
   "id": "a8f01a7d",
   "metadata": {},
   "source": [
    "#### Sec 4"
   ]
  },
  {
   "cell_type": "code",
   "execution_count": 27,
   "id": "ce77c905",
   "metadata": {},
   "outputs": [
    {
     "data": {
      "text/plain": [
       "Text(0.5, 1.0, 'Relation between job and balace')"
      ]
     },
     "execution_count": 27,
     "metadata": {},
     "output_type": "execute_result"
    },
    {
     "data": {
      "image/png": "[encoded data removed]",
      "text/plain": [
       "<Figure size 432x288 with 1 Axes>"
      ]
     },
     "metadata": {
      "needs_background": "light"
     },
     "output_type": "display_data"
    }
   ],
   "source": [
    "vis=df.groupby(['job'])['balance'].mean()\n",
    "vis=pd.DataFrame(vis)\n",
    "vis.plot(kind='bar')\n",
    "plt.title('Relation between job and balace')"
   ]
  },
  {
   "cell_type": "markdown",
   "id": "0816b1d0",
   "metadata": {},
   "source": [
    "Analysis:\n",
    "   * The clients who are into services have lowest balance and retired people has highest."
   ]
  },
  {
   "cell_type": "markdown",
   "id": "982d5ed0",
   "metadata": {},
   "source": [
    "#### Sec 5"
   ]
  },
  {
   "cell_type": "code",
   "execution_count": 32,
   "id": "39ecfc4a",
   "metadata": {},
   "outputs": [
    {
     "data": {
      "text/plain": [
       "Text(0.5, 6.79999999999999, 'Job Type')"
      ]
     },
     "execution_count": 32,
     "metadata": {},
     "output_type": "execute_result"
    },
    {
     "data": {
      "image/png": "[encoded data removed]",
      "text/plain": [
       "<Figure size 1853.25x360 with 1 Axes>"
      ]
     },
     "metadata": {
      "needs_background": "light"
     },
     "output_type": "display_data"
    }
   ],
   "source": [
    "import seaborn as sns\n",
    "#sns.displot(x=df['job'],y=df['y'],aspect=3)\n",
    "\n",
    "df_outcome=df.groupby(['job','y'])['balance'].mean()\n",
    "df_outcome=df_outcome.reset_index()\n",
    "\n",
    "\n",
    "# plot barplot\n",
    "sns.displot(x=\"job\",\n",
    "           y=\"balance\",\n",
    "           hue=\"y\",\n",
    "           data=df_outcome, aspect=5)\n",
    "plt.title('Outcome Analysis based on job vs balance')\n",
    "plt.ylabel('balance in $')\n",
    "plt.xlabel('Job Type')"
   ]
  },
  {
   "cell_type": "markdown",
   "id": "d630b6d6",
   "metadata": {},
   "source": [
    "Analysis:\n",
    "   * The clients with hightest balance with each job type are willing to take up the term deposit plan."
   ]
  },
  {
   "cell_type": "markdown",
   "id": "087822a3",
   "metadata": {},
   "source": [
    "## Summary "
   ]
  },
  {
   "cell_type": "markdown",
   "id": "39f744ab",
   "metadata": {},
   "source": [
    "### Patterns observed "
   ]
  },
  {
   "cell_type": "markdown",
   "id": "af35361c",
   "metadata": {},
   "source": [
    "#### Sec 1:\n",
    "  \n",
    "Analysis:\n",
    "   * The average seconds spent on clients who agreed to take up the plan was 537s and with others they have spent on 221s on avearge.\n",
    "   \n",
    "#### Sec 2:\n",
    "\n",
    "Analysis:\n",
    "\n",
    "   * The clients who have high average deposit & divorced & no loan & no housing are more likely to take up the term deposit plan.\n",
    "   \n",
    "#### Sec 3:\n",
    "\n",
    "Analysis:\n",
    "   * The clients who have balance more than $10,000 were least interested in term deposit plan.\n",
    "   \n",
    "#### Sec 4:\n",
    "   \n",
    "Analysis:\n",
    "   * The clients who are into services job has the lowest balance and retired people has highest.\n",
    "   \n",
    "#### Sec 5:\n",
    "\n",
    "Analysis:\n",
    "   * The clients with highest balance with each job type are willing to take up the term deposit plan."
   ]
  },
  {
   "cell_type": "markdown",
   "id": "b0be9263",
   "metadata": {},
   "source": [
    "### Primary Observation"
   ]
  },
  {
   "cell_type": "code",
   "execution_count": 48,
   "id": "ef2fab33",
   "metadata": {},
   "outputs": [
    {
     "name": "stderr",
     "output_type": "stream",
     "text": [
      "/var/folders/wb/mynt_v_579n87q8ddq2_5w300000gn/T/ipykernel_20801/620370527.py:5: FutureWarning: Dropping of nuisance columns in DataFrame reductions (with 'numeric_only=None') is deprecated; in a future version this will raise TypeError.  Select only valid columns before calling the reduction.\n",
      "  df.groupby('y').get_group('yes').mean()\n"
     ]
    },
    {
     "data": {
      "text/plain": [
       "balance     1804.267915\n",
       "duration     537.294574\n",
       "campaign       2.141047\n",
       "pdays         68.702968\n",
       "previous       1.170354\n",
       "dtype: float64"
      ]
     },
     "execution_count": 48,
     "metadata": {},
     "output_type": "execute_result"
    }
   ],
   "source": [
    "#12 - campaign: number of contacts performed during this campaign and for this client (numeric, includes last contact)\n",
    "#13 - pdays: number of days that passed by after the client was last contacted from a previous campaign (numeric; 999 means client was not previously contacted)\n",
    "#14 - previous: number of contacts performed before this campaign and for this client (numeric)\n",
    "\n",
    "df.groupby('y').get_group('yes').mean()"
   ]
  },
  {
   "cell_type": "code",
   "execution_count": 49,
   "id": "0e522e66",
   "metadata": {},
   "outputs": [
    {
     "name": "stderr",
     "output_type": "stream",
     "text": [
      "/var/folders/wb/mynt_v_579n87q8ddq2_5w300000gn/T/ipykernel_20801/389258055.py:1: FutureWarning: Dropping of nuisance columns in DataFrame reductions (with 'numeric_only=None') is deprecated; in a future version this will raise TypeError.  Select only valid columns before calling the reduction.\n",
      "  df.groupby('y').get_group('no').mean(numeric_only=None)\n"
     ]
    },
    {
     "data": {
      "text/plain": [
       "balance     1303.714969\n",
       "duration     221.182806\n",
       "campaign       2.846350\n",
       "pdays         36.421372\n",
       "previous       0.502154\n",
       "dtype: float64"
      ]
     },
     "execution_count": 49,
     "metadata": {},
     "output_type": "execute_result"
    }
   ],
   "source": [
    "df.groupby('y').get_group('no').mean(numeric_only=None)"
   ]
  },
  {
   "cell_type": "markdown",
   "id": "48c986c9",
   "metadata": {},
   "source": [
    "Analysis:\n",
    "    The customers who were contacted multiple times before campaign and whose balance is high were willing to take up the term deposit."
   ]
  }
 ],
 "metadata": {
  "kernelspec": {
   "display_name": "Python 3 (ipykernel)",
   "language": "python",
   "name": "python3"
  },
  "language_info": {
   "codemirror_mode": {
    "name": "ipython",
    "version": 3
   },
   "file_extension": ".py",
   "mimetype": "text/x-python",
   "name": "python",
   "nbconvert_exporter": "python",
   "pygments_lexer": "ipython3",
   "version": "3.9.7"
  }
 },
 "nbformat": 4,
 "nbformat_minor": 5
}
